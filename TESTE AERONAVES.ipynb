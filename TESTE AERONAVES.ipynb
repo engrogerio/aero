{
 "cells": [
  {
   "cell_type": "code",
   "execution_count": null,
   "metadata": {},
   "outputs": [],
   "source": [
    "import pandas as pd\n",
    "\n",
    "anv = \"c:/users/rsilva/source/aero/anv.csv\"\n",
    "rec = \"c:/users/rsilva/source/aero/rec.csv\"\n",
    "ftc = \"c:/users/rsilva/source/aero/ftc.csv\"\n",
    "oco = \"c:/users/rsilva/source/aero/oco.csv\"\n",
    "aeronaves = pd.read_csv(anv, encoding='latin-1')\n",
    "ocorrencias = pd.read_csv(oco, encoding='latin-1', sep=\"~\")\n",
    "fatores = pd.read_csv(ftc, encoding='latin-1', sep=\"~\")\n",
    "recomendacoes = pd.read_csv(rec, encoding='latin-1', sep=\"~\")\n",
    "\n"
   ]
  },
  {
   "cell_type": "code",
   "execution_count": 1,
   "metadata": {},
   "outputs": [
    {
     "ename": "ModuleNotFoundError",
     "evalue": "No module named 'folium'",
     "output_type": "error",
     "traceback": [
      "\u001b[1;31m---------------------------------------------------------------------------\u001b[0m",
      "\u001b[1;31mModuleNotFoundError\u001b[0m                       Traceback (most recent call last)",
      "\u001b[1;32m<ipython-input-1-0e47a9bbb22c>\u001b[0m in \u001b[0;36m<module>\u001b[1;34m\u001b[0m\n\u001b[1;32m----> 1\u001b[1;33m \u001b[1;32mimport\u001b[0m \u001b[0mfolium\u001b[0m\u001b[1;33m\u001b[0m\u001b[0m\n\u001b[0m\u001b[0;32m      2\u001b[0m \u001b[1;33m\u001b[0m\u001b[0m\n\u001b[0;32m      3\u001b[0m \u001b[0mocorrencias\u001b[0m\u001b[1;33m\u001b[0m\u001b[0m\n",
      "\u001b[1;31mModuleNotFoundError\u001b[0m: No module named 'folium'"
     ]
    }
   ],
   "source": [
    "import folium\n",
    "\n",
    "ocorrencias"
   ]
  },
  {
   "cell_type": "code",
   "execution_count": null,
   "metadata": {},
   "outputs": [],
   "source": [
    "rec_file = \"c:/users/rsilva/Downloads/recomendacoes.csv\"\n",
    "recomendacoes.to_csv(rec_file, sep=',', encoding='utf-8')\n",
    "\n",
    "ftc_file = \"c:/users/rsilva/Downloads/fatores.csv\"\n",
    "fatores.to_csv(ftc_file, sep=',', encoding='utf-8')\n",
    "\n",
    "oco_file = \"c:/users/rsilva/Downloads/ocorrencias.csv\"\n",
    "ocorrencias.to_csv(oco_file, sep=',', encoding='utf-8')\n"
   ]
  }
 ],
 "metadata": {
  "kernelspec": {
   "display_name": "Python 3",
   "language": "python",
   "name": "python3"
  },
  "language_info": {
   "codemirror_mode": {
    "name": "ipython",
    "version": 3
   },
   "file_extension": ".py",
   "mimetype": "text/x-python",
   "name": "python",
   "nbconvert_exporter": "python",
   "pygments_lexer": "ipython3",
   "version": "3.7.0"
  }
 },
 "nbformat": 4,
 "nbformat_minor": 2
}
